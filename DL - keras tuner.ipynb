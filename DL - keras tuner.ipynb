{
 "cells": [
  {
   "cell_type": "code",
   "execution_count": 1,
   "id": "91f6595c",
   "metadata": {},
   "outputs": [],
   "source": [
    "import pandas as pd\n",
    "import numpy as np\n",
    "import matplotlib.pyplot as plt\n"
   ]
  },
  {
   "cell_type": "code",
   "execution_count": 2,
   "id": "e8c660c0",
   "metadata": {},
   "outputs": [],
   "source": [
    "df = pd.read_excel(\"/Users/Dataset/pima-indians-diabetes.xlsx\")"
   ]
  },
  {
   "cell_type": "code",
   "execution_count": 3,
   "id": "f3acba0d",
   "metadata": {},
   "outputs": [
    {
     "data": {
      "text/html": [
       "<div>\n",
       "<style scoped>\n",
       "    .dataframe tbody tr th:only-of-type {\n",
       "        vertical-align: middle;\n",
       "    }\n",
       "\n",
       "    .dataframe tbody tr th {\n",
       "        vertical-align: top;\n",
       "    }\n",
       "\n",
       "    .dataframe thead th {\n",
       "        text-align: right;\n",
       "    }\n",
       "</style>\n",
       "<table border=\"1\" class=\"dataframe\">\n",
       "  <thead>\n",
       "    <tr style=\"text-align: right;\">\n",
       "      <th></th>\n",
       "      <th>Pregnancies</th>\n",
       "      <th>Glucose</th>\n",
       "      <th>Bloodpressure</th>\n",
       "      <th>SkinThickness</th>\n",
       "      <th>Insulin</th>\n",
       "      <th>BMI</th>\n",
       "      <th>DiabetesPedigreeFUnction</th>\n",
       "      <th>Age</th>\n",
       "      <th>Outcome</th>\n",
       "    </tr>\n",
       "  </thead>\n",
       "  <tbody>\n",
       "    <tr>\n",
       "      <th>0</th>\n",
       "      <td>6</td>\n",
       "      <td>148</td>\n",
       "      <td>72</td>\n",
       "      <td>35</td>\n",
       "      <td>0</td>\n",
       "      <td>33.6</td>\n",
       "      <td>0.627</td>\n",
       "      <td>50</td>\n",
       "      <td>1</td>\n",
       "    </tr>\n",
       "    <tr>\n",
       "      <th>1</th>\n",
       "      <td>1</td>\n",
       "      <td>85</td>\n",
       "      <td>66</td>\n",
       "      <td>29</td>\n",
       "      <td>0</td>\n",
       "      <td>26.6</td>\n",
       "      <td>0.351</td>\n",
       "      <td>31</td>\n",
       "      <td>0</td>\n",
       "    </tr>\n",
       "    <tr>\n",
       "      <th>2</th>\n",
       "      <td>8</td>\n",
       "      <td>183</td>\n",
       "      <td>64</td>\n",
       "      <td>0</td>\n",
       "      <td>0</td>\n",
       "      <td>23.3</td>\n",
       "      <td>0.672</td>\n",
       "      <td>32</td>\n",
       "      <td>1</td>\n",
       "    </tr>\n",
       "    <tr>\n",
       "      <th>3</th>\n",
       "      <td>1</td>\n",
       "      <td>89</td>\n",
       "      <td>66</td>\n",
       "      <td>23</td>\n",
       "      <td>94</td>\n",
       "      <td>28.1</td>\n",
       "      <td>0.167</td>\n",
       "      <td>21</td>\n",
       "      <td>0</td>\n",
       "    </tr>\n",
       "    <tr>\n",
       "      <th>4</th>\n",
       "      <td>0</td>\n",
       "      <td>137</td>\n",
       "      <td>40</td>\n",
       "      <td>35</td>\n",
       "      <td>168</td>\n",
       "      <td>43.1</td>\n",
       "      <td>2.288</td>\n",
       "      <td>33</td>\n",
       "      <td>1</td>\n",
       "    </tr>\n",
       "  </tbody>\n",
       "</table>\n",
       "</div>"
      ],
      "text/plain": [
       "   Pregnancies  Glucose  Bloodpressure  SkinThickness  Insulin   BMI  \\\n",
       "0            6      148             72             35        0  33.6   \n",
       "1            1       85             66             29        0  26.6   \n",
       "2            8      183             64              0        0  23.3   \n",
       "3            1       89             66             23       94  28.1   \n",
       "4            0      137             40             35      168  43.1   \n",
       "\n",
       "   DiabetesPedigreeFUnction  Age  Outcome  \n",
       "0                     0.627   50        1  \n",
       "1                     0.351   31        0  \n",
       "2                     0.672   32        1  \n",
       "3                     0.167   21        0  \n",
       "4                     2.288   33        1  "
      ]
     },
     "execution_count": 3,
     "metadata": {},
     "output_type": "execute_result"
    }
   ],
   "source": [
    "df.head()"
   ]
  },
  {
   "cell_type": "code",
   "execution_count": 4,
   "id": "4b06fc1c",
   "metadata": {},
   "outputs": [
    {
     "data": {
      "text/html": [
       "<div>\n",
       "<style scoped>\n",
       "    .dataframe tbody tr th:only-of-type {\n",
       "        vertical-align: middle;\n",
       "    }\n",
       "\n",
       "    .dataframe tbody tr th {\n",
       "        vertical-align: top;\n",
       "    }\n",
       "\n",
       "    .dataframe thead th {\n",
       "        text-align: right;\n",
       "    }\n",
       "</style>\n",
       "<table border=\"1\" class=\"dataframe\">\n",
       "  <thead>\n",
       "    <tr style=\"text-align: right;\">\n",
       "      <th></th>\n",
       "      <th>Pregnancies</th>\n",
       "      <th>Glucose</th>\n",
       "      <th>Bloodpressure</th>\n",
       "      <th>SkinThickness</th>\n",
       "      <th>Insulin</th>\n",
       "      <th>BMI</th>\n",
       "      <th>DiabetesPedigreeFUnction</th>\n",
       "      <th>Age</th>\n",
       "      <th>Outcome</th>\n",
       "    </tr>\n",
       "  </thead>\n",
       "  <tbody>\n",
       "    <tr>\n",
       "      <th>Pregnancies</th>\n",
       "      <td>1.000000</td>\n",
       "      <td>0.129459</td>\n",
       "      <td>0.141282</td>\n",
       "      <td>-0.081672</td>\n",
       "      <td>-0.073535</td>\n",
       "      <td>0.017683</td>\n",
       "      <td>-0.033523</td>\n",
       "      <td>0.544341</td>\n",
       "      <td>0.221898</td>\n",
       "    </tr>\n",
       "    <tr>\n",
       "      <th>Glucose</th>\n",
       "      <td>0.129459</td>\n",
       "      <td>1.000000</td>\n",
       "      <td>0.152590</td>\n",
       "      <td>0.057328</td>\n",
       "      <td>0.331357</td>\n",
       "      <td>0.221071</td>\n",
       "      <td>0.137337</td>\n",
       "      <td>0.263514</td>\n",
       "      <td>0.466581</td>\n",
       "    </tr>\n",
       "    <tr>\n",
       "      <th>Bloodpressure</th>\n",
       "      <td>0.141282</td>\n",
       "      <td>0.152590</td>\n",
       "      <td>1.000000</td>\n",
       "      <td>0.207371</td>\n",
       "      <td>0.088933</td>\n",
       "      <td>0.281805</td>\n",
       "      <td>0.041265</td>\n",
       "      <td>0.239528</td>\n",
       "      <td>0.065068</td>\n",
       "    </tr>\n",
       "    <tr>\n",
       "      <th>SkinThickness</th>\n",
       "      <td>-0.081672</td>\n",
       "      <td>0.057328</td>\n",
       "      <td>0.207371</td>\n",
       "      <td>1.000000</td>\n",
       "      <td>0.436783</td>\n",
       "      <td>0.392573</td>\n",
       "      <td>0.183928</td>\n",
       "      <td>-0.113970</td>\n",
       "      <td>0.074752</td>\n",
       "    </tr>\n",
       "    <tr>\n",
       "      <th>Insulin</th>\n",
       "      <td>-0.073535</td>\n",
       "      <td>0.331357</td>\n",
       "      <td>0.088933</td>\n",
       "      <td>0.436783</td>\n",
       "      <td>1.000000</td>\n",
       "      <td>0.197859</td>\n",
       "      <td>0.185071</td>\n",
       "      <td>-0.042163</td>\n",
       "      <td>0.130548</td>\n",
       "    </tr>\n",
       "    <tr>\n",
       "      <th>BMI</th>\n",
       "      <td>0.017683</td>\n",
       "      <td>0.221071</td>\n",
       "      <td>0.281805</td>\n",
       "      <td>0.392573</td>\n",
       "      <td>0.197859</td>\n",
       "      <td>1.000000</td>\n",
       "      <td>0.140647</td>\n",
       "      <td>0.036242</td>\n",
       "      <td>0.292695</td>\n",
       "    </tr>\n",
       "    <tr>\n",
       "      <th>DiabetesPedigreeFUnction</th>\n",
       "      <td>-0.033523</td>\n",
       "      <td>0.137337</td>\n",
       "      <td>0.041265</td>\n",
       "      <td>0.183928</td>\n",
       "      <td>0.185071</td>\n",
       "      <td>0.140647</td>\n",
       "      <td>1.000000</td>\n",
       "      <td>0.033561</td>\n",
       "      <td>0.173844</td>\n",
       "    </tr>\n",
       "    <tr>\n",
       "      <th>Age</th>\n",
       "      <td>0.544341</td>\n",
       "      <td>0.263514</td>\n",
       "      <td>0.239528</td>\n",
       "      <td>-0.113970</td>\n",
       "      <td>-0.042163</td>\n",
       "      <td>0.036242</td>\n",
       "      <td>0.033561</td>\n",
       "      <td>1.000000</td>\n",
       "      <td>0.238356</td>\n",
       "    </tr>\n",
       "    <tr>\n",
       "      <th>Outcome</th>\n",
       "      <td>0.221898</td>\n",
       "      <td>0.466581</td>\n",
       "      <td>0.065068</td>\n",
       "      <td>0.074752</td>\n",
       "      <td>0.130548</td>\n",
       "      <td>0.292695</td>\n",
       "      <td>0.173844</td>\n",
       "      <td>0.238356</td>\n",
       "      <td>1.000000</td>\n",
       "    </tr>\n",
       "  </tbody>\n",
       "</table>\n",
       "</div>"
      ],
      "text/plain": [
       "                          Pregnancies   Glucose  Bloodpressure  SkinThickness  \\\n",
       "Pregnancies                  1.000000  0.129459       0.141282      -0.081672   \n",
       "Glucose                      0.129459  1.000000       0.152590       0.057328   \n",
       "Bloodpressure                0.141282  0.152590       1.000000       0.207371   \n",
       "SkinThickness               -0.081672  0.057328       0.207371       1.000000   \n",
       "Insulin                     -0.073535  0.331357       0.088933       0.436783   \n",
       "BMI                          0.017683  0.221071       0.281805       0.392573   \n",
       "DiabetesPedigreeFUnction    -0.033523  0.137337       0.041265       0.183928   \n",
       "Age                          0.544341  0.263514       0.239528      -0.113970   \n",
       "Outcome                      0.221898  0.466581       0.065068       0.074752   \n",
       "\n",
       "                           Insulin       BMI  DiabetesPedigreeFUnction  \\\n",
       "Pregnancies              -0.073535  0.017683                 -0.033523   \n",
       "Glucose                   0.331357  0.221071                  0.137337   \n",
       "Bloodpressure             0.088933  0.281805                  0.041265   \n",
       "SkinThickness             0.436783  0.392573                  0.183928   \n",
       "Insulin                   1.000000  0.197859                  0.185071   \n",
       "BMI                       0.197859  1.000000                  0.140647   \n",
       "DiabetesPedigreeFUnction  0.185071  0.140647                  1.000000   \n",
       "Age                      -0.042163  0.036242                  0.033561   \n",
       "Outcome                   0.130548  0.292695                  0.173844   \n",
       "\n",
       "                               Age   Outcome  \n",
       "Pregnancies               0.544341  0.221898  \n",
       "Glucose                   0.263514  0.466581  \n",
       "Bloodpressure             0.239528  0.065068  \n",
       "SkinThickness            -0.113970  0.074752  \n",
       "Insulin                  -0.042163  0.130548  \n",
       "BMI                       0.036242  0.292695  \n",
       "DiabetesPedigreeFUnction  0.033561  0.173844  \n",
       "Age                       1.000000  0.238356  \n",
       "Outcome                   0.238356  1.000000  "
      ]
     },
     "execution_count": 4,
     "metadata": {},
     "output_type": "execute_result"
    }
   ],
   "source": [
    "df.corr()"
   ]
  },
  {
   "cell_type": "markdown",
   "id": "7fdaba3e",
   "metadata": {},
   "source": [
    "## Check the corelation of 'Outcomes' (target variable ) with other feature"
   ]
  },
  {
   "cell_type": "code",
   "execution_count": 5,
   "id": "bf2f5d86",
   "metadata": {},
   "outputs": [
    {
     "data": {
      "text/plain": [
       "Pregnancies                 0.221898\n",
       "Glucose                     0.466581\n",
       "Bloodpressure               0.065068\n",
       "SkinThickness               0.074752\n",
       "Insulin                     0.130548\n",
       "BMI                         0.292695\n",
       "DiabetesPedigreeFUnction    0.173844\n",
       "Age                         0.238356\n",
       "Outcome                     1.000000\n",
       "Name: Outcome, dtype: float64"
      ]
     },
     "execution_count": 5,
     "metadata": {},
     "output_type": "execute_result"
    }
   ],
   "source": [
    "df.corr()['Outcome']"
   ]
  },
  {
   "cell_type": "code",
   "execution_count": 6,
   "id": "ea14a1c1",
   "metadata": {},
   "outputs": [
    {
     "data": {
      "text/plain": [
       "Pregnancies                 0\n",
       "Glucose                     0\n",
       "Bloodpressure               0\n",
       "SkinThickness               0\n",
       "Insulin                     0\n",
       "BMI                         0\n",
       "DiabetesPedigreeFUnction    0\n",
       "Age                         0\n",
       "Outcome                     0\n",
       "dtype: int64"
      ]
     },
     "execution_count": 6,
     "metadata": {},
     "output_type": "execute_result"
    }
   ],
   "source": [
    "df.isna().sum()"
   ]
  },
  {
   "cell_type": "markdown",
   "id": "d849b958",
   "metadata": {},
   "source": [
    "## Separating Feature and Target variable"
   ]
  },
  {
   "cell_type": "code",
   "execution_count": 7,
   "id": "7b4e6d6a",
   "metadata": {},
   "outputs": [],
   "source": [
    "feature = df.iloc[:,:-1]\n",
    "target = df.iloc[:,-1]"
   ]
  },
  {
   "cell_type": "code",
   "execution_count": null,
   "id": "921ed72f",
   "metadata": {},
   "outputs": [],
   "source": []
  },
  {
   "cell_type": "markdown",
   "id": "13f2ce01",
   "metadata": {},
   "source": [
    "## Scaling features"
   ]
  },
  {
   "cell_type": "code",
   "execution_count": 8,
   "id": "e647690c",
   "metadata": {},
   "outputs": [],
   "source": [
    "from sklearn.preprocessing import StandardScaler"
   ]
  },
  {
   "cell_type": "code",
   "execution_count": 9,
   "id": "649a283d",
   "metadata": {},
   "outputs": [],
   "source": [
    "scale = StandardScaler()\n",
    "feature = scale.fit_transform(feature)"
   ]
  },
  {
   "cell_type": "markdown",
   "id": "27aadf0c",
   "metadata": {},
   "source": [
    "## Split data into train and test"
   ]
  },
  {
   "cell_type": "code",
   "execution_count": 10,
   "id": "db3e1c93",
   "metadata": {},
   "outputs": [],
   "source": [
    "from sklearn.model_selection import train_test_split"
   ]
  },
  {
   "cell_type": "code",
   "execution_count": 11,
   "id": "af582e20",
   "metadata": {},
   "outputs": [],
   "source": [
    "xtrain, xtest, ytrain, ytest = train_test_split(feature, target, test_size=0.2, shuffle=True, random_state=True)"
   ]
  },
  {
   "cell_type": "markdown",
   "id": "73ccb97c",
   "metadata": {},
   "source": [
    "## Make Model for NN"
   ]
  },
  {
   "cell_type": "code",
   "execution_count": 12,
   "id": "8ffe18ee",
   "metadata": {},
   "outputs": [],
   "source": [
    "import tensorflow\n",
    "from tensorflow import keras\n",
    "from keras import Sequential\n",
    "from keras.layers import Dense, Flatten"
   ]
  },
  {
   "cell_type": "markdown",
   "id": "93c63992",
   "metadata": {},
   "source": [
    "#### Self model design section"
   ]
  },
  {
   "cell_type": "code",
   "execution_count": 13,
   "id": "92f3ab43",
   "metadata": {},
   "outputs": [
    {
     "name": "stdout",
     "output_type": "stream",
     "text": [
      "Metal device set to: Apple M2\n"
     ]
    }
   ],
   "source": [
    "model = Sequential()\n",
    "model.add(Dense(32, activation='relu', input_dim=8))\n",
    "model.add(Dense(1, activation='sigmoid'))\n",
    "\n",
    "model.compile(loss='binary_crossentropy', optimizer='adam', metrics='accuracy')"
   ]
  },
  {
   "cell_type": "code",
   "execution_count": 14,
   "id": "707f99ba",
   "metadata": {},
   "outputs": [
    {
     "name": "stdout",
     "output_type": "stream",
     "text": [
      "Epoch 1/100\n"
     ]
    },
    {
     "name": "stderr",
     "output_type": "stream",
     "text": [
      "2023-06-11 21:05:19.735217: W tensorflow/tsl/platform/profile_utils/cpu_utils.cc:128] Failed to get CPU frequency: 0 Hz\n"
     ]
    },
    {
     "name": "stdout",
     "output_type": "stream",
     "text": [
      "20/20 [==============================] - 0s 14ms/step - loss: 0.7379 - accuracy: 0.5130 - val_loss: 0.6980 - val_accuracy: 0.5519\n",
      "Epoch 2/100\n",
      "20/20 [==============================] - 0s 6ms/step - loss: 0.6660 - accuracy: 0.6270 - val_loss: 0.6413 - val_accuracy: 0.6364\n",
      "Epoch 3/100\n",
      "20/20 [==============================] - 0s 5ms/step - loss: 0.6153 - accuracy: 0.6954 - val_loss: 0.5992 - val_accuracy: 0.7208\n",
      "Epoch 4/100\n",
      "20/20 [==============================] - 0s 5ms/step - loss: 0.5781 - accuracy: 0.7199 - val_loss: 0.5677 - val_accuracy: 0.7403\n",
      "Epoch 5/100\n",
      "20/20 [==============================] - 0s 5ms/step - loss: 0.5508 - accuracy: 0.7264 - val_loss: 0.5452 - val_accuracy: 0.7597\n",
      "Epoch 6/100\n",
      "20/20 [==============================] - 0s 5ms/step - loss: 0.5304 - accuracy: 0.7443 - val_loss: 0.5273 - val_accuracy: 0.7662\n",
      "Epoch 7/100\n",
      "20/20 [==============================] - 0s 5ms/step - loss: 0.5151 - accuracy: 0.7557 - val_loss: 0.5115 - val_accuracy: 0.7792\n",
      "Epoch 8/100\n",
      "20/20 [==============================] - 0s 5ms/step - loss: 0.5023 - accuracy: 0.7655 - val_loss: 0.5015 - val_accuracy: 0.7792\n",
      "Epoch 9/100\n",
      "20/20 [==============================] - 0s 5ms/step - loss: 0.4928 - accuracy: 0.7687 - val_loss: 0.4930 - val_accuracy: 0.7792\n",
      "Epoch 10/100\n",
      "20/20 [==============================] - 0s 5ms/step - loss: 0.4850 - accuracy: 0.7736 - val_loss: 0.4853 - val_accuracy: 0.7857\n",
      "Epoch 11/100\n",
      "20/20 [==============================] - 0s 5ms/step - loss: 0.4784 - accuracy: 0.7752 - val_loss: 0.4794 - val_accuracy: 0.7922\n",
      "Epoch 12/100\n",
      "20/20 [==============================] - 0s 5ms/step - loss: 0.4736 - accuracy: 0.7785 - val_loss: 0.4756 - val_accuracy: 0.7922\n",
      "Epoch 13/100\n",
      "20/20 [==============================] - 0s 5ms/step - loss: 0.4696 - accuracy: 0.7785 - val_loss: 0.4731 - val_accuracy: 0.7922\n",
      "Epoch 14/100\n",
      "20/20 [==============================] - 0s 6ms/step - loss: 0.4654 - accuracy: 0.7769 - val_loss: 0.4700 - val_accuracy: 0.7922\n",
      "Epoch 15/100\n",
      "20/20 [==============================] - 0s 5ms/step - loss: 0.4627 - accuracy: 0.7785 - val_loss: 0.4685 - val_accuracy: 0.7857\n",
      "Epoch 16/100\n",
      "20/20 [==============================] - 0s 5ms/step - loss: 0.4602 - accuracy: 0.7785 - val_loss: 0.4669 - val_accuracy: 0.7792\n",
      "Epoch 17/100\n",
      "20/20 [==============================] - 0s 5ms/step - loss: 0.4575 - accuracy: 0.7801 - val_loss: 0.4670 - val_accuracy: 0.7792\n",
      "Epoch 18/100\n",
      "20/20 [==============================] - 0s 5ms/step - loss: 0.4560 - accuracy: 0.7850 - val_loss: 0.4666 - val_accuracy: 0.7792\n",
      "Epoch 19/100\n",
      "20/20 [==============================] - 0s 5ms/step - loss: 0.4542 - accuracy: 0.7834 - val_loss: 0.4659 - val_accuracy: 0.7792\n",
      "Epoch 20/100\n",
      "20/20 [==============================] - 0s 5ms/step - loss: 0.4523 - accuracy: 0.7834 - val_loss: 0.4654 - val_accuracy: 0.7792\n",
      "Epoch 21/100\n",
      "20/20 [==============================] - 0s 5ms/step - loss: 0.4512 - accuracy: 0.7866 - val_loss: 0.4642 - val_accuracy: 0.7792\n",
      "Epoch 22/100\n",
      "20/20 [==============================] - 0s 5ms/step - loss: 0.4502 - accuracy: 0.7834 - val_loss: 0.4629 - val_accuracy: 0.7857\n",
      "Epoch 23/100\n",
      "20/20 [==============================] - 0s 5ms/step - loss: 0.4492 - accuracy: 0.7850 - val_loss: 0.4618 - val_accuracy: 0.7792\n",
      "Epoch 24/100\n",
      "20/20 [==============================] - 0s 5ms/step - loss: 0.4482 - accuracy: 0.7785 - val_loss: 0.4618 - val_accuracy: 0.7857\n",
      "Epoch 25/100\n",
      "20/20 [==============================] - 0s 5ms/step - loss: 0.4474 - accuracy: 0.7818 - val_loss: 0.4626 - val_accuracy: 0.7857\n",
      "Epoch 26/100\n",
      "20/20 [==============================] - 0s 5ms/step - loss: 0.4461 - accuracy: 0.7834 - val_loss: 0.4636 - val_accuracy: 0.7857\n",
      "Epoch 27/100\n",
      "20/20 [==============================] - 0s 5ms/step - loss: 0.4455 - accuracy: 0.7834 - val_loss: 0.4640 - val_accuracy: 0.7792\n",
      "Epoch 28/100\n",
      "20/20 [==============================] - 0s 5ms/step - loss: 0.4445 - accuracy: 0.7818 - val_loss: 0.4637 - val_accuracy: 0.7792\n",
      "Epoch 29/100\n",
      "20/20 [==============================] - 0s 5ms/step - loss: 0.4436 - accuracy: 0.7850 - val_loss: 0.4628 - val_accuracy: 0.7857\n",
      "Epoch 30/100\n",
      "20/20 [==============================] - 0s 5ms/step - loss: 0.4435 - accuracy: 0.7866 - val_loss: 0.4627 - val_accuracy: 0.7857\n",
      "Epoch 31/100\n",
      "20/20 [==============================] - 0s 5ms/step - loss: 0.4426 - accuracy: 0.7785 - val_loss: 0.4623 - val_accuracy: 0.7857\n",
      "Epoch 32/100\n",
      "20/20 [==============================] - 0s 6ms/step - loss: 0.4422 - accuracy: 0.7866 - val_loss: 0.4635 - val_accuracy: 0.7792\n",
      "Epoch 33/100\n",
      "20/20 [==============================] - 0s 5ms/step - loss: 0.4416 - accuracy: 0.7883 - val_loss: 0.4625 - val_accuracy: 0.7792\n",
      "Epoch 34/100\n",
      "20/20 [==============================] - 0s 5ms/step - loss: 0.4408 - accuracy: 0.7866 - val_loss: 0.4626 - val_accuracy: 0.7792\n",
      "Epoch 35/100\n",
      "20/20 [==============================] - 0s 5ms/step - loss: 0.4403 - accuracy: 0.7818 - val_loss: 0.4625 - val_accuracy: 0.7792\n",
      "Epoch 36/100\n",
      "20/20 [==============================] - 0s 5ms/step - loss: 0.4400 - accuracy: 0.7834 - val_loss: 0.4625 - val_accuracy: 0.7792\n",
      "Epoch 37/100\n",
      "20/20 [==============================] - 0s 5ms/step - loss: 0.4390 - accuracy: 0.7801 - val_loss: 0.4620 - val_accuracy: 0.7857\n",
      "Epoch 38/100\n",
      "20/20 [==============================] - 0s 5ms/step - loss: 0.4386 - accuracy: 0.7818 - val_loss: 0.4618 - val_accuracy: 0.7857\n",
      "Epoch 39/100\n",
      "20/20 [==============================] - 0s 5ms/step - loss: 0.4379 - accuracy: 0.7834 - val_loss: 0.4619 - val_accuracy: 0.7792\n",
      "Epoch 40/100\n",
      "20/20 [==============================] - 0s 5ms/step - loss: 0.4380 - accuracy: 0.7850 - val_loss: 0.4617 - val_accuracy: 0.7922\n",
      "Epoch 41/100\n",
      "20/20 [==============================] - 0s 5ms/step - loss: 0.4369 - accuracy: 0.7850 - val_loss: 0.4616 - val_accuracy: 0.7922\n",
      "Epoch 42/100\n",
      "20/20 [==============================] - 0s 5ms/step - loss: 0.4365 - accuracy: 0.7834 - val_loss: 0.4605 - val_accuracy: 0.7727\n",
      "Epoch 43/100\n",
      "20/20 [==============================] - 0s 5ms/step - loss: 0.4363 - accuracy: 0.7866 - val_loss: 0.4593 - val_accuracy: 0.7727\n",
      "Epoch 44/100\n",
      "20/20 [==============================] - 0s 5ms/step - loss: 0.4354 - accuracy: 0.7883 - val_loss: 0.4586 - val_accuracy: 0.7922\n",
      "Epoch 45/100\n",
      "20/20 [==============================] - 0s 5ms/step - loss: 0.4348 - accuracy: 0.7899 - val_loss: 0.4594 - val_accuracy: 0.7792\n",
      "Epoch 46/100\n",
      "20/20 [==============================] - 0s 5ms/step - loss: 0.4343 - accuracy: 0.7866 - val_loss: 0.4604 - val_accuracy: 0.7792\n",
      "Epoch 47/100\n",
      "20/20 [==============================] - 0s 5ms/step - loss: 0.4342 - accuracy: 0.7801 - val_loss: 0.4600 - val_accuracy: 0.7792\n",
      "Epoch 48/100\n",
      "20/20 [==============================] - 0s 5ms/step - loss: 0.4336 - accuracy: 0.7850 - val_loss: 0.4606 - val_accuracy: 0.7857\n",
      "Epoch 49/100\n",
      "20/20 [==============================] - 0s 5ms/step - loss: 0.4334 - accuracy: 0.7866 - val_loss: 0.4606 - val_accuracy: 0.7727\n",
      "Epoch 50/100\n",
      "20/20 [==============================] - 0s 5ms/step - loss: 0.4325 - accuracy: 0.7866 - val_loss: 0.4601 - val_accuracy: 0.7727\n",
      "Epoch 51/100\n",
      "20/20 [==============================] - 0s 5ms/step - loss: 0.4322 - accuracy: 0.7866 - val_loss: 0.4600 - val_accuracy: 0.7792\n",
      "Epoch 52/100\n",
      "20/20 [==============================] - 0s 5ms/step - loss: 0.4327 - accuracy: 0.7850 - val_loss: 0.4597 - val_accuracy: 0.7857\n",
      "Epoch 53/100\n",
      "20/20 [==============================] - 0s 5ms/step - loss: 0.4320 - accuracy: 0.7834 - val_loss: 0.4599 - val_accuracy: 0.7857\n",
      "Epoch 54/100\n",
      "20/20 [==============================] - 0s 5ms/step - loss: 0.4317 - accuracy: 0.7883 - val_loss: 0.4596 - val_accuracy: 0.7857\n",
      "Epoch 55/100\n",
      "20/20 [==============================] - 0s 5ms/step - loss: 0.4310 - accuracy: 0.7883 - val_loss: 0.4597 - val_accuracy: 0.7857\n",
      "Epoch 56/100\n",
      "20/20 [==============================] - 0s 5ms/step - loss: 0.4306 - accuracy: 0.7834 - val_loss: 0.4595 - val_accuracy: 0.7792\n",
      "Epoch 57/100\n",
      "20/20 [==============================] - 0s 5ms/step - loss: 0.4302 - accuracy: 0.7818 - val_loss: 0.4584 - val_accuracy: 0.7792\n",
      "Epoch 58/100\n",
      "20/20 [==============================] - 0s 5ms/step - loss: 0.4303 - accuracy: 0.7850 - val_loss: 0.4595 - val_accuracy: 0.7792\n"
     ]
    },
    {
     "name": "stdout",
     "output_type": "stream",
     "text": [
      "Epoch 59/100\n",
      "20/20 [==============================] - 0s 5ms/step - loss: 0.4297 - accuracy: 0.7866 - val_loss: 0.4577 - val_accuracy: 0.7792\n",
      "Epoch 60/100\n",
      "20/20 [==============================] - 0s 5ms/step - loss: 0.4300 - accuracy: 0.7850 - val_loss: 0.4579 - val_accuracy: 0.7792\n",
      "Epoch 61/100\n",
      "20/20 [==============================] - 0s 5ms/step - loss: 0.4289 - accuracy: 0.7883 - val_loss: 0.4586 - val_accuracy: 0.7792\n",
      "Epoch 62/100\n",
      "20/20 [==============================] - 0s 5ms/step - loss: 0.4291 - accuracy: 0.7899 - val_loss: 0.4580 - val_accuracy: 0.7857\n",
      "Epoch 63/100\n",
      "20/20 [==============================] - 0s 5ms/step - loss: 0.4285 - accuracy: 0.7883 - val_loss: 0.4576 - val_accuracy: 0.7857\n",
      "Epoch 64/100\n",
      "20/20 [==============================] - 0s 5ms/step - loss: 0.4286 - accuracy: 0.7866 - val_loss: 0.4573 - val_accuracy: 0.7792\n",
      "Epoch 65/100\n",
      "20/20 [==============================] - 0s 5ms/step - loss: 0.4279 - accuracy: 0.7899 - val_loss: 0.4575 - val_accuracy: 0.7857\n",
      "Epoch 66/100\n",
      "20/20 [==============================] - 0s 5ms/step - loss: 0.4273 - accuracy: 0.7850 - val_loss: 0.4578 - val_accuracy: 0.7987\n",
      "Epoch 67/100\n",
      "20/20 [==============================] - 0s 5ms/step - loss: 0.4284 - accuracy: 0.7866 - val_loss: 0.4571 - val_accuracy: 0.7922\n",
      "Epoch 68/100\n",
      "20/20 [==============================] - 0s 5ms/step - loss: 0.4276 - accuracy: 0.7850 - val_loss: 0.4575 - val_accuracy: 0.7922\n",
      "Epoch 69/100\n",
      "20/20 [==============================] - 0s 5ms/step - loss: 0.4268 - accuracy: 0.7866 - val_loss: 0.4556 - val_accuracy: 0.7987\n",
      "Epoch 70/100\n",
      "20/20 [==============================] - 0s 5ms/step - loss: 0.4270 - accuracy: 0.7866 - val_loss: 0.4556 - val_accuracy: 0.7987\n",
      "Epoch 71/100\n",
      "20/20 [==============================] - 0s 5ms/step - loss: 0.4262 - accuracy: 0.7818 - val_loss: 0.4561 - val_accuracy: 0.7922\n",
      "Epoch 72/100\n",
      "20/20 [==============================] - 0s 5ms/step - loss: 0.4258 - accuracy: 0.7834 - val_loss: 0.4559 - val_accuracy: 0.7857\n",
      "Epoch 73/100\n",
      "20/20 [==============================] - 0s 5ms/step - loss: 0.4257 - accuracy: 0.7883 - val_loss: 0.4558 - val_accuracy: 0.7922\n",
      "Epoch 74/100\n",
      "20/20 [==============================] - 0s 5ms/step - loss: 0.4254 - accuracy: 0.7899 - val_loss: 0.4553 - val_accuracy: 0.7922\n",
      "Epoch 75/100\n",
      "20/20 [==============================] - 0s 5ms/step - loss: 0.4251 - accuracy: 0.7932 - val_loss: 0.4566 - val_accuracy: 0.7857\n",
      "Epoch 76/100\n",
      "20/20 [==============================] - 0s 5ms/step - loss: 0.4248 - accuracy: 0.7866 - val_loss: 0.4550 - val_accuracy: 0.7922\n",
      "Epoch 77/100\n",
      "20/20 [==============================] - 0s 5ms/step - loss: 0.4245 - accuracy: 0.7899 - val_loss: 0.4540 - val_accuracy: 0.7987\n",
      "Epoch 78/100\n",
      "20/20 [==============================] - 0s 5ms/step - loss: 0.4247 - accuracy: 0.7883 - val_loss: 0.4539 - val_accuracy: 0.7857\n",
      "Epoch 79/100\n",
      "20/20 [==============================] - 0s 5ms/step - loss: 0.4243 - accuracy: 0.7883 - val_loss: 0.4541 - val_accuracy: 0.7922\n",
      "Epoch 80/100\n",
      "20/20 [==============================] - 0s 5ms/step - loss: 0.4235 - accuracy: 0.7948 - val_loss: 0.4558 - val_accuracy: 0.7922\n",
      "Epoch 81/100\n",
      "20/20 [==============================] - 0s 5ms/step - loss: 0.4233 - accuracy: 0.7932 - val_loss: 0.4554 - val_accuracy: 0.7987\n",
      "Epoch 82/100\n",
      "20/20 [==============================] - 0s 5ms/step - loss: 0.4235 - accuracy: 0.7980 - val_loss: 0.4568 - val_accuracy: 0.8052\n",
      "Epoch 83/100\n",
      "20/20 [==============================] - 0s 5ms/step - loss: 0.4229 - accuracy: 0.7964 - val_loss: 0.4565 - val_accuracy: 0.7987\n",
      "Epoch 84/100\n",
      "20/20 [==============================] - 0s 5ms/step - loss: 0.4225 - accuracy: 0.7948 - val_loss: 0.4564 - val_accuracy: 0.7922\n",
      "Epoch 85/100\n",
      "20/20 [==============================] - 0s 5ms/step - loss: 0.4237 - accuracy: 0.7948 - val_loss: 0.4558 - val_accuracy: 0.7857\n",
      "Epoch 86/100\n",
      "20/20 [==============================] - 0s 5ms/step - loss: 0.4224 - accuracy: 0.7932 - val_loss: 0.4554 - val_accuracy: 0.7922\n",
      "Epoch 87/100\n",
      "20/20 [==============================] - 0s 5ms/step - loss: 0.4218 - accuracy: 0.7948 - val_loss: 0.4543 - val_accuracy: 0.7922\n",
      "Epoch 88/100\n",
      "20/20 [==============================] - 0s 5ms/step - loss: 0.4217 - accuracy: 0.7980 - val_loss: 0.4548 - val_accuracy: 0.7922\n",
      "Epoch 89/100\n",
      "20/20 [==============================] - 0s 5ms/step - loss: 0.4220 - accuracy: 0.7964 - val_loss: 0.4532 - val_accuracy: 0.7987\n",
      "Epoch 90/100\n",
      "20/20 [==============================] - 0s 5ms/step - loss: 0.4214 - accuracy: 0.7997 - val_loss: 0.4541 - val_accuracy: 0.7922\n",
      "Epoch 91/100\n",
      "20/20 [==============================] - 0s 5ms/step - loss: 0.4207 - accuracy: 0.8046 - val_loss: 0.4535 - val_accuracy: 0.7987\n",
      "Epoch 92/100\n",
      "20/20 [==============================] - 0s 5ms/step - loss: 0.4212 - accuracy: 0.7997 - val_loss: 0.4550 - val_accuracy: 0.7987\n",
      "Epoch 93/100\n",
      "20/20 [==============================] - 0s 5ms/step - loss: 0.4206 - accuracy: 0.8013 - val_loss: 0.4532 - val_accuracy: 0.7987\n",
      "Epoch 94/100\n",
      "20/20 [==============================] - 0s 5ms/step - loss: 0.4201 - accuracy: 0.7964 - val_loss: 0.4540 - val_accuracy: 0.7987\n",
      "Epoch 95/100\n",
      "20/20 [==============================] - 0s 5ms/step - loss: 0.4199 - accuracy: 0.7964 - val_loss: 0.4547 - val_accuracy: 0.7987\n",
      "Epoch 96/100\n",
      "20/20 [==============================] - 0s 5ms/step - loss: 0.4198 - accuracy: 0.7964 - val_loss: 0.4543 - val_accuracy: 0.7987\n",
      "Epoch 97/100\n",
      "20/20 [==============================] - 0s 5ms/step - loss: 0.4197 - accuracy: 0.7997 - val_loss: 0.4562 - val_accuracy: 0.7987\n",
      "Epoch 98/100\n",
      "20/20 [==============================] - 0s 5ms/step - loss: 0.4193 - accuracy: 0.7997 - val_loss: 0.4565 - val_accuracy: 0.8052\n",
      "Epoch 99/100\n",
      "20/20 [==============================] - 0s 5ms/step - loss: 0.4192 - accuracy: 0.7997 - val_loss: 0.4558 - val_accuracy: 0.7987\n",
      "Epoch 100/100\n",
      "20/20 [==============================] - 0s 5ms/step - loss: 0.4187 - accuracy: 0.8013 - val_loss: 0.4544 - val_accuracy: 0.7987\n"
     ]
    }
   ],
   "source": [
    "history = model.fit(xtrain, ytrain, epochs=100, batch_size=32, validation_data=(xtest, ytest))"
   ]
  },
  {
   "cell_type": "markdown",
   "id": "0aa49033",
   "metadata": {},
   "source": [
    "#### Checking Loss and accuracy over train and test data"
   ]
  },
  {
   "cell_type": "code",
   "execution_count": 15,
   "id": "1f8994f2",
   "metadata": {},
   "outputs": [
    {
     "data": {
      "image/png": "[encoded data removed]",
      "text/plain": [
       "<Figure size 1500x500 with 1 Axes>"
      ]
     },
     "metadata": {},
     "output_type": "display_data"
    }
   ],
   "source": [
    "plt.figure(figsize=(15,5))\n",
    "plt.plot(history.history['loss']);\n",
    "plt.plot(history.history['val_loss']);\n",
    "plt.legend(['Train','Test'],loc='upper right')\n",
    "plt.show();"
   ]
  },
  {
   "cell_type": "code",
   "execution_count": 16,
   "id": "d5d40f7e",
   "metadata": {},
   "outputs": [
    {
     "data": {
      "image/png": "[encoded data removed]",
      "text/plain": [
       "<Figure size 1500x500 with 1 Axes>"
      ]
     },
     "metadata": {},
     "output_type": "display_data"
    }
   ],
   "source": [
    "plt.figure(figsize=(15,5))\n",
    "plt.plot(history.history['accuracy']);\n",
    "plt.plot(history.history['val_accuracy']);\n",
    "plt.legend(['Train','Test'],loc='upper right')\n",
    "plt.show();"
   ]
  },
  {
   "cell_type": "markdown",
   "id": "218b6180",
   "metadata": {},
   "source": [
    "## Hyperparameter selection for Optimizer\n",
    "* How to select appropriate optimizer\n",
    "* Number of nodes in a layer\n",
    "* How to select number of layers"
   ]
  },
  {
   "cell_type": "code",
   "execution_count": 17,
   "id": "519e6dd1",
   "metadata": {},
   "outputs": [],
   "source": [
    "import keras_tuner as kt"
   ]
  },
  {
   "cell_type": "code",
   "execution_count": 18,
   "id": "ff195d3a",
   "metadata": {},
   "outputs": [
    {
     "name": "stdout",
     "output_type": "stream",
     "text": [
      "INFO:tensorflow:Reloading Tuner from ./untitled_project/tuner0.json\n"
     ]
    }
   ],
   "source": [
    "def build_model(hp):\n",
    "    model = Sequential()\n",
    "    model.add(Dense(32, activation='relu', input_dim=8))\n",
    "    model.add(Dense(1, activation='sigmoid'))\n",
    "    \n",
    "    model.compile(loss='binary_crossentropy', optimizer=hp.Choice('optimizer',['adam','sgd','rmsprop','adadelta']), metrics=['accuracy'])\n",
    "    return model\n",
    "\n",
    "tuner = kt.RandomSearch(build_model, objective = 'val_accuracy', max_trials=5)\n"
   ]
  },
  {
   "cell_type": "code",
   "execution_count": 19,
   "id": "c2fe2cfd",
   "metadata": {},
   "outputs": [
    {
     "name": "stdout",
     "output_type": "stream",
     "text": [
      "INFO:tensorflow:Oracle triggered exit\n"
     ]
    }
   ],
   "source": [
    "tuner.search(xtrain, ytrain, epochs=5, validation_data=(xtest,ytest))"
   ]
  },
  {
   "cell_type": "code",
   "execution_count": 20,
   "id": "8eb2b4fd",
   "metadata": {},
   "outputs": [
    {
     "data": {
      "text/plain": [
       "{'optimizer': 'rmsprop'}"
      ]
     },
     "execution_count": 20,
     "metadata": {},
     "output_type": "execute_result"
    }
   ],
   "source": [
    "tuner.get_best_hyperparameters()[0].values"
   ]
  },
  {
   "cell_type": "markdown",
   "id": "4a7d55f5",
   "metadata": {},
   "source": [
    "#### Using best hyperparameter"
   ]
  },
  {
   "cell_type": "code",
   "execution_count": 21,
   "id": "54ea153f",
   "metadata": {},
   "outputs": [],
   "source": [
    "model = tuner.get_best_models(num_models=1)[0]"
   ]
  },
  {
   "cell_type": "code",
   "execution_count": 29,
   "id": "b35d17f4",
   "metadata": {},
   "outputs": [
    {
     "name": "stdout",
     "output_type": "stream",
     "text": [
      "Epoch 7/100\n",
      "20/20 [==============================] - 0s 8ms/step - loss: 0.3920 - accuracy: 0.8257 - val_loss: 0.4539 - val_accuracy: 0.8052\n",
      "Epoch 8/100\n",
      "20/20 [==============================] - 0s 6ms/step - loss: 0.3916 - accuracy: 0.8241 - val_loss: 0.4554 - val_accuracy: 0.7987\n",
      "Epoch 9/100\n",
      "20/20 [==============================] - 0s 6ms/step - loss: 0.3921 - accuracy: 0.8257 - val_loss: 0.4550 - val_accuracy: 0.7987\n",
      "Epoch 10/100\n",
      "20/20 [==============================] - 0s 6ms/step - loss: 0.3915 - accuracy: 0.8208 - val_loss: 0.4552 - val_accuracy: 0.7987\n",
      "Epoch 11/100\n",
      "20/20 [==============================] - 0s 6ms/step - loss: 0.3914 - accuracy: 0.8241 - val_loss: 0.4558 - val_accuracy: 0.8052\n",
      "Epoch 12/100\n",
      "20/20 [==============================] - 0s 6ms/step - loss: 0.3910 - accuracy: 0.8290 - val_loss: 0.4544 - val_accuracy: 0.8117\n",
      "Epoch 13/100\n",
      "20/20 [==============================] - 0s 6ms/step - loss: 0.3907 - accuracy: 0.8241 - val_loss: 0.4549 - val_accuracy: 0.8052\n",
      "Epoch 14/100\n",
      "20/20 [==============================] - 0s 6ms/step - loss: 0.3912 - accuracy: 0.8257 - val_loss: 0.4558 - val_accuracy: 0.7987\n",
      "Epoch 15/100\n",
      "20/20 [==============================] - 0s 6ms/step - loss: 0.3904 - accuracy: 0.8257 - val_loss: 0.4562 - val_accuracy: 0.8052\n",
      "Epoch 16/100\n",
      "20/20 [==============================] - 0s 6ms/step - loss: 0.3902 - accuracy: 0.8257 - val_loss: 0.4552 - val_accuracy: 0.7987\n",
      "Epoch 17/100\n",
      "20/20 [==============================] - 0s 6ms/step - loss: 0.3900 - accuracy: 0.8225 - val_loss: 0.4550 - val_accuracy: 0.8052\n",
      "Epoch 18/100\n",
      "20/20 [==============================] - 0s 6ms/step - loss: 0.3899 - accuracy: 0.8257 - val_loss: 0.4557 - val_accuracy: 0.8052\n",
      "Epoch 19/100\n",
      "20/20 [==============================] - 0s 6ms/step - loss: 0.3900 - accuracy: 0.8241 - val_loss: 0.4557 - val_accuracy: 0.7987\n",
      "Epoch 20/100\n",
      "20/20 [==============================] - 0s 6ms/step - loss: 0.3893 - accuracy: 0.8241 - val_loss: 0.4551 - val_accuracy: 0.8117\n",
      "Epoch 21/100\n",
      "20/20 [==============================] - 0s 6ms/step - loss: 0.3891 - accuracy: 0.8208 - val_loss: 0.4552 - val_accuracy: 0.8117\n",
      "Epoch 22/100\n",
      "20/20 [==============================] - 0s 6ms/step - loss: 0.3891 - accuracy: 0.8257 - val_loss: 0.4560 - val_accuracy: 0.8117\n",
      "Epoch 23/100\n",
      "20/20 [==============================] - 0s 6ms/step - loss: 0.3890 - accuracy: 0.8225 - val_loss: 0.4562 - val_accuracy: 0.8052\n",
      "Epoch 24/100\n",
      "20/20 [==============================] - 0s 6ms/step - loss: 0.3884 - accuracy: 0.8274 - val_loss: 0.4564 - val_accuracy: 0.8117\n",
      "Epoch 25/100\n",
      "20/20 [==============================] - 0s 6ms/step - loss: 0.3885 - accuracy: 0.8241 - val_loss: 0.4547 - val_accuracy: 0.8117\n",
      "Epoch 26/100\n",
      "20/20 [==============================] - 0s 6ms/step - loss: 0.3884 - accuracy: 0.8257 - val_loss: 0.4557 - val_accuracy: 0.8117\n",
      "Epoch 27/100\n",
      "20/20 [==============================] - 0s 6ms/step - loss: 0.3878 - accuracy: 0.8225 - val_loss: 0.4560 - val_accuracy: 0.8117\n",
      "Epoch 28/100\n",
      "20/20 [==============================] - 0s 6ms/step - loss: 0.3886 - accuracy: 0.8274 - val_loss: 0.4559 - val_accuracy: 0.8117\n",
      "Epoch 29/100\n",
      "20/20 [==============================] - 0s 6ms/step - loss: 0.3877 - accuracy: 0.8225 - val_loss: 0.4556 - val_accuracy: 0.8247\n",
      "Epoch 30/100\n",
      "20/20 [==============================] - 0s 6ms/step - loss: 0.3873 - accuracy: 0.8274 - val_loss: 0.4561 - val_accuracy: 0.8117\n",
      "Epoch 31/100\n",
      "20/20 [==============================] - 0s 6ms/step - loss: 0.3872 - accuracy: 0.8241 - val_loss: 0.4558 - val_accuracy: 0.8247\n",
      "Epoch 32/100\n",
      "20/20 [==============================] - 0s 6ms/step - loss: 0.3870 - accuracy: 0.8225 - val_loss: 0.4568 - val_accuracy: 0.8117\n",
      "Epoch 33/100\n",
      "20/20 [==============================] - 0s 6ms/step - loss: 0.3868 - accuracy: 0.8241 - val_loss: 0.4556 - val_accuracy: 0.8117\n",
      "Epoch 34/100\n",
      "20/20 [==============================] - 0s 6ms/step - loss: 0.3869 - accuracy: 0.8274 - val_loss: 0.4565 - val_accuracy: 0.8117\n",
      "Epoch 35/100\n",
      "20/20 [==============================] - 0s 6ms/step - loss: 0.3858 - accuracy: 0.8257 - val_loss: 0.4568 - val_accuracy: 0.8052\n",
      "Epoch 36/100\n",
      "20/20 [==============================] - 0s 6ms/step - loss: 0.3860 - accuracy: 0.8225 - val_loss: 0.4583 - val_accuracy: 0.8052\n",
      "Epoch 37/100\n",
      "20/20 [==============================] - 0s 6ms/step - loss: 0.3855 - accuracy: 0.8322 - val_loss: 0.4573 - val_accuracy: 0.8117\n",
      "Epoch 38/100\n",
      "20/20 [==============================] - 0s 6ms/step - loss: 0.3855 - accuracy: 0.8241 - val_loss: 0.4573 - val_accuracy: 0.8117\n",
      "Epoch 39/100\n",
      "20/20 [==============================] - 0s 6ms/step - loss: 0.3856 - accuracy: 0.8241 - val_loss: 0.4576 - val_accuracy: 0.8117\n",
      "Epoch 40/100\n",
      "20/20 [==============================] - 0s 6ms/step - loss: 0.3856 - accuracy: 0.8208 - val_loss: 0.4575 - val_accuracy: 0.8052\n",
      "Epoch 41/100\n",
      "20/20 [==============================] - 0s 6ms/step - loss: 0.3850 - accuracy: 0.8225 - val_loss: 0.4556 - val_accuracy: 0.7987\n",
      "Epoch 42/100\n",
      "20/20 [==============================] - 0s 6ms/step - loss: 0.3847 - accuracy: 0.8290 - val_loss: 0.4557 - val_accuracy: 0.8052\n",
      "Epoch 43/100\n",
      "20/20 [==============================] - 0s 6ms/step - loss: 0.3842 - accuracy: 0.8208 - val_loss: 0.4564 - val_accuracy: 0.8052\n",
      "Epoch 44/100\n",
      "20/20 [==============================] - 0s 6ms/step - loss: 0.3846 - accuracy: 0.8322 - val_loss: 0.4564 - val_accuracy: 0.8117\n",
      "Epoch 45/100\n",
      "20/20 [==============================] - 0s 6ms/step - loss: 0.3843 - accuracy: 0.8241 - val_loss: 0.4575 - val_accuracy: 0.8052\n",
      "Epoch 46/100\n",
      "20/20 [==============================] - 0s 6ms/step - loss: 0.3844 - accuracy: 0.8225 - val_loss: 0.4566 - val_accuracy: 0.8052\n",
      "Epoch 47/100\n",
      "20/20 [==============================] - 0s 6ms/step - loss: 0.3836 - accuracy: 0.8257 - val_loss: 0.4566 - val_accuracy: 0.8052\n",
      "Epoch 48/100\n",
      "20/20 [==============================] - 0s 6ms/step - loss: 0.3837 - accuracy: 0.8290 - val_loss: 0.4566 - val_accuracy: 0.8117\n",
      "Epoch 49/100\n",
      "20/20 [==============================] - 0s 6ms/step - loss: 0.3836 - accuracy: 0.8241 - val_loss: 0.4580 - val_accuracy: 0.8117\n",
      "Epoch 50/100\n",
      "20/20 [==============================] - 0s 6ms/step - loss: 0.3833 - accuracy: 0.8241 - val_loss: 0.4581 - val_accuracy: 0.8117\n",
      "Epoch 51/100\n",
      "20/20 [==============================] - 0s 6ms/step - loss: 0.3833 - accuracy: 0.8208 - val_loss: 0.4589 - val_accuracy: 0.8117\n",
      "Epoch 52/100\n",
      "20/20 [==============================] - 0s 6ms/step - loss: 0.3828 - accuracy: 0.8257 - val_loss: 0.4568 - val_accuracy: 0.8117\n",
      "Epoch 53/100\n",
      "20/20 [==============================] - 0s 6ms/step - loss: 0.3827 - accuracy: 0.8290 - val_loss: 0.4583 - val_accuracy: 0.8117\n",
      "Epoch 54/100\n",
      "20/20 [==============================] - 0s 6ms/step - loss: 0.3828 - accuracy: 0.8208 - val_loss: 0.4584 - val_accuracy: 0.8052\n",
      "Epoch 55/100\n",
      "20/20 [==============================] - 0s 6ms/step - loss: 0.3820 - accuracy: 0.8306 - val_loss: 0.4594 - val_accuracy: 0.8052\n",
      "Epoch 56/100\n",
      "20/20 [==============================] - 0s 6ms/step - loss: 0.3825 - accuracy: 0.8192 - val_loss: 0.4599 - val_accuracy: 0.8052\n",
      "Epoch 57/100\n",
      "20/20 [==============================] - 0s 6ms/step - loss: 0.3816 - accuracy: 0.8257 - val_loss: 0.4589 - val_accuracy: 0.8052\n",
      "Epoch 58/100\n",
      "20/20 [==============================] - 0s 6ms/step - loss: 0.3818 - accuracy: 0.8274 - val_loss: 0.4599 - val_accuracy: 0.8052\n",
      "Epoch 59/100\n",
      "20/20 [==============================] - 0s 6ms/step - loss: 0.3818 - accuracy: 0.8257 - val_loss: 0.4594 - val_accuracy: 0.8052\n",
      "Epoch 60/100\n",
      "20/20 [==============================] - 0s 6ms/step - loss: 0.3816 - accuracy: 0.8290 - val_loss: 0.4589 - val_accuracy: 0.8052\n",
      "Epoch 61/100\n",
      "20/20 [==============================] - 0s 6ms/step - loss: 0.3811 - accuracy: 0.8290 - val_loss: 0.4582 - val_accuracy: 0.8052\n",
      "Epoch 62/100\n",
      "20/20 [==============================] - 0s 6ms/step - loss: 0.3813 - accuracy: 0.8225 - val_loss: 0.4586 - val_accuracy: 0.8052\n",
      "Epoch 63/100\n",
      "20/20 [==============================] - 0s 6ms/step - loss: 0.3810 - accuracy: 0.8274 - val_loss: 0.4576 - val_accuracy: 0.8117\n",
      "Epoch 64/100\n",
      "20/20 [==============================] - 0s 6ms/step - loss: 0.3808 - accuracy: 0.8241 - val_loss: 0.4576 - val_accuracy: 0.8182\n"
     ]
    },
    {
     "name": "stdout",
     "output_type": "stream",
     "text": [
      "Epoch 65/100\n",
      "20/20 [==============================] - 0s 6ms/step - loss: 0.3813 - accuracy: 0.8225 - val_loss: 0.4577 - val_accuracy: 0.8117\n",
      "Epoch 66/100\n",
      "20/20 [==============================] - 0s 6ms/step - loss: 0.3804 - accuracy: 0.8192 - val_loss: 0.4574 - val_accuracy: 0.8117\n",
      "Epoch 67/100\n",
      "20/20 [==============================] - 0s 6ms/step - loss: 0.3800 - accuracy: 0.8208 - val_loss: 0.4571 - val_accuracy: 0.8182\n",
      "Epoch 68/100\n",
      "20/20 [==============================] - 0s 6ms/step - loss: 0.3803 - accuracy: 0.8241 - val_loss: 0.4573 - val_accuracy: 0.8117\n",
      "Epoch 69/100\n",
      "20/20 [==============================] - 0s 6ms/step - loss: 0.3796 - accuracy: 0.8274 - val_loss: 0.4583 - val_accuracy: 0.8117\n",
      "Epoch 70/100\n",
      "20/20 [==============================] - 0s 6ms/step - loss: 0.3796 - accuracy: 0.8241 - val_loss: 0.4589 - val_accuracy: 0.8117\n",
      "Epoch 71/100\n",
      "20/20 [==============================] - 0s 6ms/step - loss: 0.3791 - accuracy: 0.8274 - val_loss: 0.4585 - val_accuracy: 0.8052\n",
      "Epoch 72/100\n",
      "20/20 [==============================] - 0s 6ms/step - loss: 0.3794 - accuracy: 0.8241 - val_loss: 0.4588 - val_accuracy: 0.8052\n",
      "Epoch 73/100\n",
      "20/20 [==============================] - 0s 6ms/step - loss: 0.3788 - accuracy: 0.8241 - val_loss: 0.4586 - val_accuracy: 0.8117\n",
      "Epoch 74/100\n",
      "20/20 [==============================] - 0s 6ms/step - loss: 0.3792 - accuracy: 0.8225 - val_loss: 0.4600 - val_accuracy: 0.7987\n",
      "Epoch 75/100\n",
      "20/20 [==============================] - 0s 6ms/step - loss: 0.3784 - accuracy: 0.8257 - val_loss: 0.4599 - val_accuracy: 0.7987\n",
      "Epoch 76/100\n",
      "20/20 [==============================] - 0s 6ms/step - loss: 0.3782 - accuracy: 0.8257 - val_loss: 0.4605 - val_accuracy: 0.7987\n",
      "Epoch 77/100\n",
      "20/20 [==============================] - 0s 6ms/step - loss: 0.3782 - accuracy: 0.8257 - val_loss: 0.4599 - val_accuracy: 0.8052\n",
      "Epoch 78/100\n",
      "20/20 [==============================] - 0s 6ms/step - loss: 0.3779 - accuracy: 0.8257 - val_loss: 0.4597 - val_accuracy: 0.7987\n",
      "Epoch 79/100\n",
      "20/20 [==============================] - 0s 6ms/step - loss: 0.3784 - accuracy: 0.8274 - val_loss: 0.4599 - val_accuracy: 0.8052\n",
      "Epoch 80/100\n",
      "20/20 [==============================] - 0s 6ms/step - loss: 0.3778 - accuracy: 0.8225 - val_loss: 0.4619 - val_accuracy: 0.8052\n",
      "Epoch 81/100\n",
      "20/20 [==============================] - 0s 6ms/step - loss: 0.3773 - accuracy: 0.8290 - val_loss: 0.4601 - val_accuracy: 0.8052\n",
      "Epoch 82/100\n",
      "20/20 [==============================] - 0s 6ms/step - loss: 0.3775 - accuracy: 0.8322 - val_loss: 0.4614 - val_accuracy: 0.7987\n",
      "Epoch 83/100\n",
      "20/20 [==============================] - 0s 6ms/step - loss: 0.3772 - accuracy: 0.8274 - val_loss: 0.4611 - val_accuracy: 0.7987\n",
      "Epoch 84/100\n",
      "20/20 [==============================] - 0s 6ms/step - loss: 0.3769 - accuracy: 0.8274 - val_loss: 0.4604 - val_accuracy: 0.8117\n",
      "Epoch 85/100\n",
      "20/20 [==============================] - 0s 6ms/step - loss: 0.3764 - accuracy: 0.8306 - val_loss: 0.4600 - val_accuracy: 0.8117\n",
      "Epoch 86/100\n",
      "20/20 [==============================] - 0s 6ms/step - loss: 0.3765 - accuracy: 0.8241 - val_loss: 0.4616 - val_accuracy: 0.8117\n",
      "Epoch 87/100\n",
      "20/20 [==============================] - 0s 5ms/step - loss: 0.3766 - accuracy: 0.8290 - val_loss: 0.4621 - val_accuracy: 0.8052\n",
      "Epoch 88/100\n",
      "20/20 [==============================] - 0s 6ms/step - loss: 0.3762 - accuracy: 0.8339 - val_loss: 0.4628 - val_accuracy: 0.8052\n",
      "Epoch 89/100\n",
      "20/20 [==============================] - 0s 6ms/step - loss: 0.3760 - accuracy: 0.8339 - val_loss: 0.4615 - val_accuracy: 0.8052\n",
      "Epoch 90/100\n",
      "20/20 [==============================] - 0s 6ms/step - loss: 0.3759 - accuracy: 0.8290 - val_loss: 0.4620 - val_accuracy: 0.7987\n",
      "Epoch 91/100\n",
      "20/20 [==============================] - 0s 6ms/step - loss: 0.3756 - accuracy: 0.8306 - val_loss: 0.4622 - val_accuracy: 0.7987\n",
      "Epoch 92/100\n",
      "20/20 [==============================] - 0s 6ms/step - loss: 0.3757 - accuracy: 0.8306 - val_loss: 0.4622 - val_accuracy: 0.7987\n",
      "Epoch 93/100\n",
      "20/20 [==============================] - 0s 6ms/step - loss: 0.3750 - accuracy: 0.8306 - val_loss: 0.4622 - val_accuracy: 0.7987\n",
      "Epoch 94/100\n",
      "20/20 [==============================] - 0s 6ms/step - loss: 0.3748 - accuracy: 0.8274 - val_loss: 0.4632 - val_accuracy: 0.7987\n",
      "Epoch 95/100\n",
      "20/20 [==============================] - 0s 6ms/step - loss: 0.3745 - accuracy: 0.8322 - val_loss: 0.4610 - val_accuracy: 0.8117\n",
      "Epoch 96/100\n",
      "20/20 [==============================] - 0s 5ms/step - loss: 0.3747 - accuracy: 0.8306 - val_loss: 0.4621 - val_accuracy: 0.7987\n",
      "Epoch 97/100\n",
      "20/20 [==============================] - 0s 6ms/step - loss: 0.3747 - accuracy: 0.8355 - val_loss: 0.4622 - val_accuracy: 0.8117\n",
      "Epoch 98/100\n",
      "20/20 [==============================] - 0s 6ms/step - loss: 0.3746 - accuracy: 0.8306 - val_loss: 0.4624 - val_accuracy: 0.7987\n",
      "Epoch 99/100\n",
      "20/20 [==============================] - 0s 6ms/step - loss: 0.3743 - accuracy: 0.8290 - val_loss: 0.4651 - val_accuracy: 0.7987\n",
      "Epoch 100/100\n",
      "20/20 [==============================] - 0s 6ms/step - loss: 0.3737 - accuracy: 0.8322 - val_loss: 0.4654 - val_accuracy: 0.8052\n"
     ]
    }
   ],
   "source": [
    "history_new = model.fit(xtrain, ytrain, epochs=100,initial_epoch=6, batch_size=32, validation_data=(xtest, ytest))"
   ]
  },
  {
   "cell_type": "code",
   "execution_count": 30,
   "id": "89ae1d03",
   "metadata": {},
   "outputs": [
    {
     "data": {
      "image/png": "[encoded data removed]",
      "text/plain": [
       "<Figure size 1500x500 with 1 Axes>"
      ]
     },
     "metadata": {},
     "output_type": "display_data"
    }
   ],
   "source": [
    "plt.figure(figsize=(15,5))\n",
    "plt.plot(history.history['loss'],c='r');\n",
    "plt.plot(history.history['val_loss'],c='r');\n",
    "\n",
    "plt.plot(history_new.history['loss'],c='b');\n",
    "plt.plot(history_new.history['val_loss'],c='b');\n",
    "plt.legend(['Train','Test'],loc='upper right')\n",
    "plt.show();"
   ]
  },
  {
   "cell_type": "code",
   "execution_count": 31,
   "id": "1de32dcc",
   "metadata": {},
   "outputs": [
    {
     "data": {
      "image/png": "[encoded data removed]",
      "text/plain": [
       "<Figure size 1500x500 with 1 Axes>"
      ]
     },
     "metadata": {},
     "output_type": "display_data"
    }
   ],
   "source": [
    "plt.figure(figsize=(15,5))\n",
    "plt.plot(history.history['accuracy']);\n",
    "plt.plot(history.history['val_accuracy']);\n",
    "plt.legend(['Train','Test'],loc='upper right')\n",
    "plt.show();"
   ]
  },
  {
   "cell_type": "markdown",
   "id": "8cedaa72",
   "metadata": {},
   "source": [
    "## Hyperparameter selection for neurons"
   ]
  },
  {
   "cell_type": "code",
   "execution_count": 46,
   "id": "5f1ee1d1",
   "metadata": {},
   "outputs": [
    {
     "name": "stdout",
     "output_type": "stream",
     "text": [
      "INFO:tensorflow:Reloading Tuner from ./untitled_project/tuner0.json\n"
     ]
    }
   ],
   "source": [
    "def build_model(hp):\n",
    "    model = Sequential()\n",
    "#     unit = hp.int(8,128,8)\n",
    "    model.add(Dense(units = hp.Int('units', min_value=8,max_value=128,steps=8), activation='relu', input_dim=8))\n",
    "    model.add(Dense(1, activation='sigmoid'))\n",
    "    \n",
    "    model.compile(loss='binary_crossentropy', optimizer='rmsprop', metrics=['accuracy'])\n",
    "    return model\n",
    "\n",
    "tuner = kt.RandomSearch(build_model, objective = 'val_accuracy', max_trials=5)"
   ]
  },
  {
   "cell_type": "code",
   "execution_count": 47,
   "id": "f50260cc",
   "metadata": {},
   "outputs": [
    {
     "name": "stdout",
     "output_type": "stream",
     "text": [
      "INFO:tensorflow:Oracle triggered exit\n"
     ]
    }
   ],
   "source": [
    "tuner.search(xtrain, ytrain, epochs=5, validation_data=(xtest,ytest))"
   ]
  },
  {
   "cell_type": "code",
   "execution_count": 48,
   "id": "28ef841e",
   "metadata": {},
   "outputs": [
    {
     "data": {
      "text/plain": [
       "{'optimizer': 'rmsprop'}"
      ]
     },
     "execution_count": 48,
     "metadata": {},
     "output_type": "execute_result"
    }
   ],
   "source": [
    "tuner.get_best_hyperparameters()[0].values"
   ]
  },
  {
   "cell_type": "code",
   "execution_count": 45,
   "id": "7a67b1ae",
   "metadata": {},
   "outputs": [
    {
     "data": {
      "text/plain": [
       "{'optimizer': 'rmsprop'}"
      ]
     },
     "execution_count": 45,
     "metadata": {},
     "output_type": "execute_result"
    }
   ],
   "source": [
    "tuner.get_best_hyperparameters()[0].values"
   ]
  },
  {
   "cell_type": "markdown",
   "id": "9cc45adc",
   "metadata": {},
   "source": [
    "## Hyperparameter for layers"
   ]
  },
  {
   "cell_type": "code",
   "execution_count": 50,
   "id": "d261f15c",
   "metadata": {},
   "outputs": [
    {
     "name": "stdout",
     "output_type": "stream",
     "text": [
      "INFO:tensorflow:Reloading Tuner from ./untitled_project/tuner0.json\n"
     ]
    }
   ],
   "source": [
    "def build_model(hp):\n",
    "    model = Sequential()\n",
    "    model.add(Dense(72, activation='relu', input_dim=8))\n",
    "    \n",
    "    for i in range(hp.Int('num_layers',min_value=1, max_value=10)):\n",
    "        model.add(Dense(72, activation='relu', input_dim=8))\n",
    "    model.add(Dense(1, activation='sigmoid'))\n",
    "    \n",
    "    model.compile(loss='binary_crossentropy', optimizer='rmsprop', metrics=['accuracy'])\n",
    "    return model\n",
    "\n",
    "tuner = kt.RandomSearch(build_model, objective = 'val_accuracy', max_trials=5)"
   ]
  },
  {
   "cell_type": "code",
   "execution_count": 51,
   "id": "55c3d58a",
   "metadata": {},
   "outputs": [
    {
     "name": "stdout",
     "output_type": "stream",
     "text": [
      "INFO:tensorflow:Oracle triggered exit\n"
     ]
    }
   ],
   "source": [
    "tuner.search(xtrain, ytrain, epochs=5, validation_data=(xtest,ytest))"
   ]
  },
  {
   "cell_type": "code",
   "execution_count": 52,
   "id": "860edf9d",
   "metadata": {},
   "outputs": [
    {
     "data": {
      "text/plain": [
       "{'optimizer': 'rmsprop'}"
      ]
     },
     "execution_count": 52,
     "metadata": {},
     "output_type": "execute_result"
    }
   ],
   "source": [
    "tuner.get_best_hyperparameters()[0].values"
   ]
  },
  {
   "cell_type": "code",
   "execution_count": null,
   "id": "dda03eba",
   "metadata": {},
   "outputs": [],
   "source": []
  }
 ],
 "metadata": {
  "kernelspec": {
   "display_name": "Python 3 (ipykernel)",
   "language": "python",
   "name": "python3"
  },
  "language_info": {
   "codemirror_mode": {
    "name": "ipython",
    "version": 3
   },
   "file_extension": ".py",
   "mimetype": "text/x-python",
   "name": "python",
   "nbconvert_exporter": "python",
   "pygments_lexer": "ipython3",
   "version": "3.10.10"
  }
 },
 "nbformat": 4,
 "nbformat_minor": 5
}
